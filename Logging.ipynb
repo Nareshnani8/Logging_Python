{
 "cells": [
  {
   "cell_type": "markdown",
   "id": "569646d5",
   "metadata": {},
   "source": [
    "# Logging"
   ]
  },
  {
   "cell_type": "code",
   "execution_count": 1,
   "id": "3c555200",
   "metadata": {},
   "outputs": [],
   "source": [
    "import logging"
   ]
  },
  {
   "cell_type": "code",
   "execution_count": 16,
   "id": "d5429a4e",
   "metadata": {},
   "outputs": [],
   "source": [
    "#Creating log file using basicConfig\n",
    "logging.basicConfig(filename = \"test.log\")"
   ]
  },
  {
   "cell_type": "code",
   "execution_count": 3,
   "id": "f89e4ee0",
   "metadata": {},
   "outputs": [
    {
     "data": {
      "text/plain": [
       "'C:\\\\Users\\\\DELL'"
      ]
     },
     "execution_count": 3,
     "metadata": {},
     "output_type": "execute_result"
    }
   ],
   "source": [
    "pwd()"
   ]
  },
  {
   "cell_type": "code",
   "execution_count": 4,
   "id": "44c366f7",
   "metadata": {},
   "outputs": [],
   "source": [
    "logging.info('This is my info log')\n",
    "logging.warning(\"This is my warning log\")\n",
    "logging.error(\"This is my error log\")"
   ]
  },
  {
   "cell_type": "code",
   "execution_count": 5,
   "id": "875946b9",
   "metadata": {},
   "outputs": [],
   "source": [
    "logging.shutdown()"
   ]
  },
  {
   "cell_type": "code",
   "execution_count": 10,
   "id": "22eeb27e",
   "metadata": {},
   "outputs": [],
   "source": [
    "#For debugging format is used to get time stamp and type of log label like info/debug and  message at that time\n",
    "#As we ser level = debug so that only debuggings are logged in file in prority\n",
    "logging.basicConfig(filename = 'debugging.log', level = logging.DEBUG, format = '%(asctime)s %(levelname)s %(message)s')"
   ]
  },
  {
   "cell_type": "code",
   "execution_count": 11,
   "id": "c02fb6cc",
   "metadata": {},
   "outputs": [],
   "source": [
    "logging.info(\"This is info log\")\n",
    "logging.warning('This is warning log')\n",
    "logging.debug('This is debugging log')"
   ]
  },
  {
   "cell_type": "code",
   "execution_count": 12,
   "id": "d9e43f9f",
   "metadata": {},
   "outputs": [],
   "source": [
    "#If no level specified then Priority level fo logs are \n",
    "#1. Error\n",
    "#2. Warning\n",
    "#3. Info\n",
    "#4. Debug"
   ]
  },
  {
   "cell_type": "code",
   "execution_count": 13,
   "id": "35b42f2b",
   "metadata": {},
   "outputs": [],
   "source": [
    "#As you set level = INFO so that above priorities ERROR, WARNING AND INFO LOGS ONLY NOT DEBUG as its level is lesser than info\n",
    "logging.basicConfig(filename = 'debugging.log', level = logging.INFO, format = '%(asctime)s %(levelname)s %(message)s')"
   ]
  },
  {
   "cell_type": "code",
   "execution_count": 14,
   "id": "9efae33b",
   "metadata": {},
   "outputs": [],
   "source": [
    "logging.info(\"This is info log\")\n",
    "logging.warning('This is warning log')\n",
    "logging.debug('This is debugging log')"
   ]
  },
  {
   "cell_type": "code",
   "execution_count": 20,
   "id": "e05664ae",
   "metadata": {},
   "outputs": [],
   "source": [
    "#Sample Zero Division Error\n",
    "\n",
    "import logging\n",
    "logging.basicConfig(filename = 'Logfile.log',level = logging.DEBUG, format = '%(asctime)s %(levelname)s %(message)s')\n",
    "\n",
    "def Zero_Div_Error(a,b):\n",
    "    logging.info('This is the start of our code and entering %s and %s', a,b)\n",
    "    try:\n",
    "        div = a/b\n",
    "        logging.info(\"Executed successfully\")\n",
    "    except Exception as e:\n",
    "        logging.error(\"Error has occured\")\n",
    "        logging.exception(\"Exception occured is \" + str(e))"
   ]
  },
  {
   "cell_type": "code",
   "execution_count": 21,
   "id": "1518a734",
   "metadata": {},
   "outputs": [],
   "source": [
    "Zero_Div_Error(4,5)  #in log file info will be Executed successfully"
   ]
  },
  {
   "cell_type": "code",
   "execution_count": 22,
   "id": "7585cc2c",
   "metadata": {},
   "outputs": [],
   "source": [
    "Zero_Div_Error(7,0)  #in log file error occured and with exception name"
   ]
  },
  {
   "cell_type": "code",
   "execution_count": null,
   "id": "3d503c0d",
   "metadata": {},
   "outputs": [],
   "source": []
  }
 ],
 "metadata": {
  "kernelspec": {
   "display_name": "Python 3",
   "language": "python",
   "name": "python3"
  },
  "language_info": {
   "codemirror_mode": {
    "name": "ipython",
    "version": 3
   },
   "file_extension": ".py",
   "mimetype": "text/x-python",
   "name": "python",
   "nbconvert_exporter": "python",
   "pygments_lexer": "ipython3",
   "version": "3.8.8"
  }
 },
 "nbformat": 4,
 "nbformat_minor": 5
}
